{
  "nbformat": 4,
  "nbformat_minor": 0,
  "metadata": {
    "colab": {
      "provenance": []
    },
    "kernelspec": {
      "name": "python3",
      "display_name": "Python 3"
    },
    "language_info": {
      "name": "python"
    }
  },
  "cells": [
    {
      "cell_type": "markdown",
      "source": [
        "#Wine Quality Logistic Regression"
      ],
      "metadata": {
        "id": "EgCY7nlZ64rA"
      }
    },
    {
      "cell_type": "markdown",
      "source": [
        "# ?) What is the model's main goal\n",
        "\n",
        "Our goal is to evaluate wines into one of 3 classes (Good, Average, Bad) using their fermentation characteristics.\n",
        "\n",
        "For this specific task, we implemented the Wine Quality database (link: https://archive.ics.uci.edu/dataset/186/wine+quality), specifically the .csv file of red wines. There is also a database with white wines, but we considered that the number of red wines (1599 rows) was sufficient for our model."
      ],
      "metadata": {
        "id": "X9WufmUte4yp"
      }
    },
    {
      "cell_type": "markdown",
      "source": [
        "#?) Describe the wine database\n",
        "\n",
        "**Table Dimensions**: 1599 rows x 12 columns\n",
        "\n",
        "**Number of Continuous Variables**: 11\n",
        "\n",
        "**Table Columns and their Descriptions**:\n",
        "\n",
        "**Continuous Variables**\n",
        "\n",
        "1) Fixed Acidity: Refers to the total percentage of acid in the wine. It affects the acidity and structure of the wine.\n",
        "\n",
        "2) Volatile Acidity: This acid is more flammable and can lead to unexpected flavors (such as sourness or sour apple) when present in high levels.\n",
        "\n",
        "3) Citric Acid: Adds freshness and brightness to the aroma and taste of the wine.\n",
        "\n",
        "4) Residual Sugar: The percentage of sugar remaining after fermentation. It affects the sweetness of the wine.\n",
        "\n",
        "5) Chlorides: Even in small amounts, they influence the taste of the wine. Excessive amounts can give a salty sensation.\n",
        "\n",
        "6) Free Sulfur Dioxide: Used as a stabilizer and in protection against microbial breakdown.\n",
        "\n",
        "7) Total Sulfur Dioxide: The total sum of free and bound sulfur dioxide. It can affect the aging potential and quality of the wine.\n",
        "\n",
        "8) Density: Related to the concentration of solid substances in the wine. It can provide a fuller mouthfeel.\n",
        "\n",
        "9) pH: Refers to the level of acidity or alkalinity of the wine. It affects the stability and structure of the wine.\n",
        "\n",
        "10) Sulphates: Can improve the wine's shelf life and structure.\n",
        "\n",
        "11) Alcohol: The percentage of alcohol influences the warmth and structure of the wine.\n",
        "\n",
        "Each of these characteristics contributes to the final result of the wine, affecting its taste, structure, and aromas.\n",
        "\n",
        "# **Output Variable**\n",
        "\n",
        "12) quality (score between 0 and 10): Wine score. Useful for the final classification (explanation to follow)"
      ],
      "metadata": {
        "id": "8KLS0rydgJqp"
      }
    },
    {
      "cell_type": "code",
      "source": [
        "print('Importing modules')"
      ],
      "metadata": {
        "colab": {
          "base_uri": "https://localhost:8080/"
        },
        "id": "rPhdRWgBxTzc",
        "outputId": "f8b75843-ce73-4768-a203-5ceb5fb16dbd"
      },
      "execution_count": null,
      "outputs": [
        {
          "output_type": "stream",
          "name": "stdout",
          "text": [
            "Importing modules\n"
          ]
        }
      ]
    },
    {
      "cell_type": "code",
      "source": [
        "# Libraries used to handle databases, arrays and draw diagrams\n",
        "import pandas as pd\n",
        "import numpy as np\n",
        "import matplotlib.pyplot as plt\n",
        "\n",
        "import warnings\n",
        "warnings.filterwarnings('ignore')"
      ],
      "metadata": {
        "id": "-WM2L4YSHQk7"
      },
      "execution_count": null,
      "outputs": []
    },
    {
      "cell_type": "code",
      "source": [
        "print('All modules imported!')"
      ],
      "metadata": {
        "colab": {
          "base_uri": "https://localhost:8080/"
        },
        "id": "i2KNjqvGxYCp",
        "outputId": "56b193ef-c6aa-4f63-b36b-e9671069c391"
      },
      "execution_count": null,
      "outputs": [
        {
          "output_type": "stream",
          "name": "stdout",
          "text": [
            "All modules imported!\n"
          ]
        }
      ]
    },
    {
      "cell_type": "markdown",
      "source": [
        "**Note**: For the following cell to work, the file winequality-red.csv must be located in the Files on Google Drive.\n",
        "\n",
        "How To: In Google Colab Files, Right-click + Upload File + Select .csv"
      ],
      "metadata": {
        "id": "tU3Lsx8ujvvY"
      }
    },
    {
      "cell_type": "code",
      "source": [
        "print('Getting the Red Wine database')\n",
        "red_wines = pd.read_csv('winequality-red.csv', sep=';')"
      ],
      "metadata": {
        "colab": {
          "base_uri": "https://localhost:8080/"
        },
        "id": "uwgtXL9yHzyB",
        "outputId": "4c3b06db-0cf0-4728-e085-68188fb4503b"
      },
      "execution_count": null,
      "outputs": [
        {
          "output_type": "stream",
          "name": "stdout",
          "text": [
            "Getting the Red Wine database\n"
          ]
        }
      ]
    },
    {
      "cell_type": "code",
      "source": [
        "# Check all database's columns (must be 12 in total)\n",
        "\n",
        "print('Columns of database')\n",
        "columns = red_wines.columns\n",
        "for i, column in enumerate(columns, start=1):\n",
        "    print(f\"{i}) {column}\")"
      ],
      "metadata": {
        "colab": {
          "base_uri": "https://localhost:8080/"
        },
        "id": "Vxywnlm2IOlJ",
        "outputId": "19958c63-b962-4773-bd00-94b1205c952e"
      },
      "execution_count": null,
      "outputs": [
        {
          "output_type": "stream",
          "name": "stdout",
          "text": [
            "Columns of database\n",
            "1) fixed acidity\n",
            "2) volatile acidity\n",
            "3) citric acid\n",
            "4) residual sugar\n",
            "5) chlorides\n",
            "6) free sulfur dioxide\n",
            "7) total sulfur dioxide\n",
            "8) density\n",
            "9) pH\n",
            "10) sulphates\n",
            "11) alcohol\n",
            "12) quality\n"
          ]
        }
      ]
    },
    {
      "cell_type": "code",
      "source": [
        "# Always check if null values exist in database to avoid errors during model's training\n",
        "\n",
        "print('Check if any null values exist in data')\n",
        "print(red_wines.isnull().sum())"
      ],
      "metadata": {
        "colab": {
          "base_uri": "https://localhost:8080/"
        },
        "id": "a64tAgcLIRa6",
        "outputId": "c6cb5f2f-f838-4852-c476-7cacf24b4d1b"
      },
      "execution_count": null,
      "outputs": [
        {
          "output_type": "stream",
          "name": "stdout",
          "text": [
            "Check if any null values exist in data\n",
            "fixed acidity           0\n",
            "volatile acidity        0\n",
            "citric acid             0\n",
            "residual sugar          0\n",
            "chlorides               0\n",
            "free sulfur dioxide     0\n",
            "total sulfur dioxide    0\n",
            "density                 0\n",
            "pH                      0\n",
            "sulphates               0\n",
            "alcohol                 0\n",
            "quality                 0\n",
            "dtype: int64\n"
          ]
        }
      ]
    },
    {
      "cell_type": "code",
      "source": [
        "# Check the first 5 rows of the table to get a first glimpse\n",
        "red_wines.head()"
      ],
      "metadata": {
        "colab": {
          "base_uri": "https://localhost:8080/",
          "height": 206
        },
        "id": "zXU4lYRmIR7B",
        "outputId": "7d349965-0d6a-451b-8605-be59f748ab16"
      },
      "execution_count": null,
      "outputs": [
        {
          "output_type": "execute_result",
          "data": {
            "text/plain": [
              "   fixed acidity  volatile acidity  citric acid  residual sugar  chlorides  \\\n",
              "0            7.4              0.70         0.00             1.9      0.076   \n",
              "1            7.8              0.88         0.00             2.6      0.098   \n",
              "2            7.8              0.76         0.04             2.3      0.092   \n",
              "3           11.2              0.28         0.56             1.9      0.075   \n",
              "4            7.4              0.70         0.00             1.9      0.076   \n",
              "\n",
              "   free sulfur dioxide  total sulfur dioxide  density    pH  sulphates  \\\n",
              "0                 11.0                  34.0   0.9978  3.51       0.56   \n",
              "1                 25.0                  67.0   0.9968  3.20       0.68   \n",
              "2                 15.0                  54.0   0.9970  3.26       0.65   \n",
              "3                 17.0                  60.0   0.9980  3.16       0.58   \n",
              "4                 11.0                  34.0   0.9978  3.51       0.56   \n",
              "\n",
              "   alcohol  quality  \n",
              "0      9.4        5  \n",
              "1      9.8        5  \n",
              "2      9.8        5  \n",
              "3      9.8        6  \n",
              "4      9.4        5  "
            ],
            "text/html": [
              "\n",
              "  <div id=\"df-8d10ceb9-a770-4f80-bc8d-aa23b1108cd2\" class=\"colab-df-container\">\n",
              "    <div>\n",
              "<style scoped>\n",
              "    .dataframe tbody tr th:only-of-type {\n",
              "        vertical-align: middle;\n",
              "    }\n",
              "\n",
              "    .dataframe tbody tr th {\n",
              "        vertical-align: top;\n",
              "    }\n",
              "\n",
              "    .dataframe thead th {\n",
              "        text-align: right;\n",
              "    }\n",
              "</style>\n",
              "<table border=\"1\" class=\"dataframe\">\n",
              "  <thead>\n",
              "    <tr style=\"text-align: right;\">\n",
              "      <th></th>\n",
              "      <th>fixed acidity</th>\n",
              "      <th>volatile acidity</th>\n",
              "      <th>citric acid</th>\n",
              "      <th>residual sugar</th>\n",
              "      <th>chlorides</th>\n",
              "      <th>free sulfur dioxide</th>\n",
              "      <th>total sulfur dioxide</th>\n",
              "      <th>density</th>\n",
              "      <th>pH</th>\n",
              "      <th>sulphates</th>\n",
              "      <th>alcohol</th>\n",
              "      <th>quality</th>\n",
              "    </tr>\n",
              "  </thead>\n",
              "  <tbody>\n",
              "    <tr>\n",
              "      <th>0</th>\n",
              "      <td>7.4</td>\n",
              "      <td>0.70</td>\n",
              "      <td>0.00</td>\n",
              "      <td>1.9</td>\n",
              "      <td>0.076</td>\n",
              "      <td>11.0</td>\n",
              "      <td>34.0</td>\n",
              "      <td>0.9978</td>\n",
              "      <td>3.51</td>\n",
              "      <td>0.56</td>\n",
              "      <td>9.4</td>\n",
              "      <td>5</td>\n",
              "    </tr>\n",
              "    <tr>\n",
              "      <th>1</th>\n",
              "      <td>7.8</td>\n",
              "      <td>0.88</td>\n",
              "      <td>0.00</td>\n",
              "      <td>2.6</td>\n",
              "      <td>0.098</td>\n",
              "      <td>25.0</td>\n",
              "      <td>67.0</td>\n",
              "      <td>0.9968</td>\n",
              "      <td>3.20</td>\n",
              "      <td>0.68</td>\n",
              "      <td>9.8</td>\n",
              "      <td>5</td>\n",
              "    </tr>\n",
              "    <tr>\n",
              "      <th>2</th>\n",
              "      <td>7.8</td>\n",
              "      <td>0.76</td>\n",
              "      <td>0.04</td>\n",
              "      <td>2.3</td>\n",
              "      <td>0.092</td>\n",
              "      <td>15.0</td>\n",
              "      <td>54.0</td>\n",
              "      <td>0.9970</td>\n",
              "      <td>3.26</td>\n",
              "      <td>0.65</td>\n",
              "      <td>9.8</td>\n",
              "      <td>5</td>\n",
              "    </tr>\n",
              "    <tr>\n",
              "      <th>3</th>\n",
              "      <td>11.2</td>\n",
              "      <td>0.28</td>\n",
              "      <td>0.56</td>\n",
              "      <td>1.9</td>\n",
              "      <td>0.075</td>\n",
              "      <td>17.0</td>\n",
              "      <td>60.0</td>\n",
              "      <td>0.9980</td>\n",
              "      <td>3.16</td>\n",
              "      <td>0.58</td>\n",
              "      <td>9.8</td>\n",
              "      <td>6</td>\n",
              "    </tr>\n",
              "    <tr>\n",
              "      <th>4</th>\n",
              "      <td>7.4</td>\n",
              "      <td>0.70</td>\n",
              "      <td>0.00</td>\n",
              "      <td>1.9</td>\n",
              "      <td>0.076</td>\n",
              "      <td>11.0</td>\n",
              "      <td>34.0</td>\n",
              "      <td>0.9978</td>\n",
              "      <td>3.51</td>\n",
              "      <td>0.56</td>\n",
              "      <td>9.4</td>\n",
              "      <td>5</td>\n",
              "    </tr>\n",
              "  </tbody>\n",
              "</table>\n",
              "</div>\n",
              "    <div class=\"colab-df-buttons\">\n",
              "\n",
              "  <div class=\"colab-df-container\">\n",
              "    <button class=\"colab-df-convert\" onclick=\"convertToInteractive('df-8d10ceb9-a770-4f80-bc8d-aa23b1108cd2')\"\n",
              "            title=\"Convert this dataframe to an interactive table.\"\n",
              "            style=\"display:none;\">\n",
              "\n",
              "  <svg xmlns=\"http://www.w3.org/2000/svg\" height=\"24px\" viewBox=\"0 -960 960 960\">\n",
              "    <path d=\"M120-120v-720h720v720H120Zm60-500h600v-160H180v160Zm220 220h160v-160H400v160Zm0 220h160v-160H400v160ZM180-400h160v-160H180v160Zm440 0h160v-160H620v160ZM180-180h160v-160H180v160Zm440 0h160v-160H620v160Z\"/>\n",
              "  </svg>\n",
              "    </button>\n",
              "\n",
              "  <style>\n",
              "    .colab-df-container {\n",
              "      display:flex;\n",
              "      gap: 12px;\n",
              "    }\n",
              "\n",
              "    .colab-df-convert {\n",
              "      background-color: #E8F0FE;\n",
              "      border: none;\n",
              "      border-radius: 50%;\n",
              "      cursor: pointer;\n",
              "      display: none;\n",
              "      fill: #1967D2;\n",
              "      height: 32px;\n",
              "      padding: 0 0 0 0;\n",
              "      width: 32px;\n",
              "    }\n",
              "\n",
              "    .colab-df-convert:hover {\n",
              "      background-color: #E2EBFA;\n",
              "      box-shadow: 0px 1px 2px rgba(60, 64, 67, 0.3), 0px 1px 3px 1px rgba(60, 64, 67, 0.15);\n",
              "      fill: #174EA6;\n",
              "    }\n",
              "\n",
              "    .colab-df-buttons div {\n",
              "      margin-bottom: 4px;\n",
              "    }\n",
              "\n",
              "    [theme=dark] .colab-df-convert {\n",
              "      background-color: #3B4455;\n",
              "      fill: #D2E3FC;\n",
              "    }\n",
              "\n",
              "    [theme=dark] .colab-df-convert:hover {\n",
              "      background-color: #434B5C;\n",
              "      box-shadow: 0px 1px 3px 1px rgba(0, 0, 0, 0.15);\n",
              "      filter: drop-shadow(0px 1px 2px rgba(0, 0, 0, 0.3));\n",
              "      fill: #FFFFFF;\n",
              "    }\n",
              "  </style>\n",
              "\n",
              "    <script>\n",
              "      const buttonEl =\n",
              "        document.querySelector('#df-8d10ceb9-a770-4f80-bc8d-aa23b1108cd2 button.colab-df-convert');\n",
              "      buttonEl.style.display =\n",
              "        google.colab.kernel.accessAllowed ? 'block' : 'none';\n",
              "\n",
              "      async function convertToInteractive(key) {\n",
              "        const element = document.querySelector('#df-8d10ceb9-a770-4f80-bc8d-aa23b1108cd2');\n",
              "        const dataTable =\n",
              "          await google.colab.kernel.invokeFunction('convertToInteractive',\n",
              "                                                    [key], {});\n",
              "        if (!dataTable) return;\n",
              "\n",
              "        const docLinkHtml = 'Like what you see? Visit the ' +\n",
              "          '<a target=\"_blank\" href=https://colab.research.google.com/notebooks/data_table.ipynb>data table notebook</a>'\n",
              "          + ' to learn more about interactive tables.';\n",
              "        element.innerHTML = '';\n",
              "        dataTable['output_type'] = 'display_data';\n",
              "        await google.colab.output.renderOutput(dataTable, element);\n",
              "        const docLink = document.createElement('div');\n",
              "        docLink.innerHTML = docLinkHtml;\n",
              "        element.appendChild(docLink);\n",
              "      }\n",
              "    </script>\n",
              "  </div>\n",
              "\n",
              "\n",
              "<div id=\"df-4688d588-986a-422f-8ef0-0871d9d4eca3\">\n",
              "  <button class=\"colab-df-quickchart\" onclick=\"quickchart('df-4688d588-986a-422f-8ef0-0871d9d4eca3')\"\n",
              "            title=\"Suggest charts\"\n",
              "            style=\"display:none;\">\n",
              "\n",
              "<svg xmlns=\"http://www.w3.org/2000/svg\" height=\"24px\"viewBox=\"0 0 24 24\"\n",
              "     width=\"24px\">\n",
              "    <g>\n",
              "        <path d=\"M19 3H5c-1.1 0-2 .9-2 2v14c0 1.1.9 2 2 2h14c1.1 0 2-.9 2-2V5c0-1.1-.9-2-2-2zM9 17H7v-7h2v7zm4 0h-2V7h2v10zm4 0h-2v-4h2v4z\"/>\n",
              "    </g>\n",
              "</svg>\n",
              "  </button>\n",
              "\n",
              "<style>\n",
              "  .colab-df-quickchart {\n",
              "      --bg-color: #E8F0FE;\n",
              "      --fill-color: #1967D2;\n",
              "      --hover-bg-color: #E2EBFA;\n",
              "      --hover-fill-color: #174EA6;\n",
              "      --disabled-fill-color: #AAA;\n",
              "      --disabled-bg-color: #DDD;\n",
              "  }\n",
              "\n",
              "  [theme=dark] .colab-df-quickchart {\n",
              "      --bg-color: #3B4455;\n",
              "      --fill-color: #D2E3FC;\n",
              "      --hover-bg-color: #434B5C;\n",
              "      --hover-fill-color: #FFFFFF;\n",
              "      --disabled-bg-color: #3B4455;\n",
              "      --disabled-fill-color: #666;\n",
              "  }\n",
              "\n",
              "  .colab-df-quickchart {\n",
              "    background-color: var(--bg-color);\n",
              "    border: none;\n",
              "    border-radius: 50%;\n",
              "    cursor: pointer;\n",
              "    display: none;\n",
              "    fill: var(--fill-color);\n",
              "    height: 32px;\n",
              "    padding: 0;\n",
              "    width: 32px;\n",
              "  }\n",
              "\n",
              "  .colab-df-quickchart:hover {\n",
              "    background-color: var(--hover-bg-color);\n",
              "    box-shadow: 0 1px 2px rgba(60, 64, 67, 0.3), 0 1px 3px 1px rgba(60, 64, 67, 0.15);\n",
              "    fill: var(--button-hover-fill-color);\n",
              "  }\n",
              "\n",
              "  .colab-df-quickchart-complete:disabled,\n",
              "  .colab-df-quickchart-complete:disabled:hover {\n",
              "    background-color: var(--disabled-bg-color);\n",
              "    fill: var(--disabled-fill-color);\n",
              "    box-shadow: none;\n",
              "  }\n",
              "\n",
              "  .colab-df-spinner {\n",
              "    border: 2px solid var(--fill-color);\n",
              "    border-color: transparent;\n",
              "    border-bottom-color: var(--fill-color);\n",
              "    animation:\n",
              "      spin 1s steps(1) infinite;\n",
              "  }\n",
              "\n",
              "  @keyframes spin {\n",
              "    0% {\n",
              "      border-color: transparent;\n",
              "      border-bottom-color: var(--fill-color);\n",
              "      border-left-color: var(--fill-color);\n",
              "    }\n",
              "    20% {\n",
              "      border-color: transparent;\n",
              "      border-left-color: var(--fill-color);\n",
              "      border-top-color: var(--fill-color);\n",
              "    }\n",
              "    30% {\n",
              "      border-color: transparent;\n",
              "      border-left-color: var(--fill-color);\n",
              "      border-top-color: var(--fill-color);\n",
              "      border-right-color: var(--fill-color);\n",
              "    }\n",
              "    40% {\n",
              "      border-color: transparent;\n",
              "      border-right-color: var(--fill-color);\n",
              "      border-top-color: var(--fill-color);\n",
              "    }\n",
              "    60% {\n",
              "      border-color: transparent;\n",
              "      border-right-color: var(--fill-color);\n",
              "    }\n",
              "    80% {\n",
              "      border-color: transparent;\n",
              "      border-right-color: var(--fill-color);\n",
              "      border-bottom-color: var(--fill-color);\n",
              "    }\n",
              "    90% {\n",
              "      border-color: transparent;\n",
              "      border-bottom-color: var(--fill-color);\n",
              "    }\n",
              "  }\n",
              "</style>\n",
              "\n",
              "  <script>\n",
              "    async function quickchart(key) {\n",
              "      const quickchartButtonEl =\n",
              "        document.querySelector('#' + key + ' button');\n",
              "      quickchartButtonEl.disabled = true;  // To prevent multiple clicks.\n",
              "      quickchartButtonEl.classList.add('colab-df-spinner');\n",
              "      try {\n",
              "        const charts = await google.colab.kernel.invokeFunction(\n",
              "            'suggestCharts', [key], {});\n",
              "      } catch (error) {\n",
              "        console.error('Error during call to suggestCharts:', error);\n",
              "      }\n",
              "      quickchartButtonEl.classList.remove('colab-df-spinner');\n",
              "      quickchartButtonEl.classList.add('colab-df-quickchart-complete');\n",
              "    }\n",
              "    (() => {\n",
              "      let quickchartButtonEl =\n",
              "        document.querySelector('#df-4688d588-986a-422f-8ef0-0871d9d4eca3 button');\n",
              "      quickchartButtonEl.style.display =\n",
              "        google.colab.kernel.accessAllowed ? 'block' : 'none';\n",
              "    })();\n",
              "  </script>\n",
              "</div>\n",
              "    </div>\n",
              "  </div>\n"
            ]
          },
          "metadata": {},
          "execution_count": 7
        }
      ]
    },
    {
      "cell_type": "code",
      "source": [
        "# We need 1599 instances of red wines\n",
        "print('There are %d instances in the dataset' % len(red_wines))"
      ],
      "metadata": {
        "colab": {
          "base_uri": "https://localhost:8080/"
        },
        "id": "KkUHUAtIIWL4",
        "outputId": "e93d1c20-44b0-4723-ffaf-e42b9d7c923f"
      },
      "execution_count": null,
      "outputs": [
        {
          "output_type": "stream",
          "name": "stdout",
          "text": [
            "There are 1599 instances in the dataset\n"
          ]
        }
      ]
    },
    {
      "cell_type": "markdown",
      "source": [
        "# ?) Why we need the quality column\n",
        "\n",
        "At the beginning, we mentioned that our model evaluates wines as \"Good,\" \"Average,\" and \"Bad.\" However, we see that our database does not have a column with such a classification.\n",
        "\n",
        "Therefore, we will make a modification. Specifically, based on the quality measurements, we will define the corresponding characterization of the wine.\n",
        "\n",
        "0-4: Bad\n",
        "\n",
        "5-6: Mediocre\n",
        "\n",
        "7-10: Good\n",
        "\n",
        "This way, we don't need to create a new column or take quality as an additional feature."
      ],
      "metadata": {
        "id": "rLlKJT2NrH3v"
      }
    },
    {
      "cell_type": "code",
      "source": [
        "print('Check all unique values in quality column')\n",
        "pd.unique(red_wines.quality)"
      ],
      "metadata": {
        "colab": {
          "base_uri": "https://localhost:8080/"
        },
        "id": "OG0YcN7eIZoo",
        "outputId": "4c91cc1c-c489-423e-ea89-3d96af90d9ab"
      },
      "execution_count": null,
      "outputs": [
        {
          "output_type": "stream",
          "name": "stdout",
          "text": [
            "Check all unique values in quality column\n"
          ]
        },
        {
          "output_type": "execute_result",
          "data": {
            "text/plain": [
              "array([5, 6, 7, 4, 8, 3])"
            ]
          },
          "metadata": {},
          "execution_count": 9
        }
      ]
    },
    {
      "cell_type": "code",
      "source": [
        "print('How many wines have the above qualities?')\n",
        "fig, ax = plt.subplots(figsize=(6,6)) # 6x6 diagram\n",
        "\n",
        "# We make a bar diagram which counts all qualities\n",
        "red_wines.quality.value_counts().plot(kind='bar', ax=ax)\n",
        "rects = ax.patches\n",
        "for rect, label in zip(rects, red_wines.quality.value_counts().values):\n",
        "    height = rect.get_height()\n",
        "    ax.text(rect.get_x() + rect.get_width()/2, height + 5, label, ha='center', va='bottom', fontsize=12)\n",
        "ax.set_xticklabels(ax.get_xticklabels(), rotation=0)\n",
        "ax.set_xlabel('Wine Quality', fontsize=13)\n",
        "ax.set_ylabel('Count', fontsize=13)\n",
        "ax.set_title('Wine Quality Distribution', fontsize=15)\n",
        "plt.show()"
      ],
      "metadata": {
        "colab": {
          "base_uri": "https://localhost:8080/",
          "height": 588
        },
        "id": "2OrknWcXIdHR",
        "outputId": "75789283-72b6-42cf-f57f-d74711671063"
      },
      "execution_count": null,
      "outputs": [
        {
          "output_type": "stream",
          "name": "stdout",
          "text": [
            "How many wines have the above qualities?\n"
          ]
        },
        {
          "output_type": "display_data",
          "data": {
            "text/plain": [
              "<Figure size 600x600 with 1 Axes>"
            ],
            "image/png": "[encoded data removed]"
          },
          "metadata": {}
        }
      ]
    },
    {
      "cell_type": "code",
      "source": [
        "# There, we set the 3 classes we want based on quality scores\n",
        "print('Replace the values in quality column to keep 3 unique values')\n",
        "red_wines['quality'] = red_wines.quality.replace({0:'Bad', 1:'Bad', 2:'Bad', 3:'Bad', 4:'Bad', 5:'Mediocre',\n",
        "                                                  6:'Mediocre', 7:'Good', 8:'Good', 9:'Good', 10:'Good'})\n",
        "print('Unique values now: ', pd.unique(red_wines.quality))"
      ],
      "metadata": {
        "colab": {
          "base_uri": "https://localhost:8080/"
        },
        "id": "DMHYVLTpIjsJ",
        "outputId": "a6985d94-f729-419c-f43f-a1b8e092e169"
      },
      "execution_count": null,
      "outputs": [
        {
          "output_type": "stream",
          "name": "stdout",
          "text": [
            "Replace the values in quality column to keep 3 unique values\n",
            "Unique values now:  ['Mediocre' 'Good' 'Bad']\n"
          ]
        }
      ]
    },
    {
      "cell_type": "code",
      "source": [
        "quality_counts = red_wines['quality'].value_counts()\n",
        "\n",
        "plt.figure(figsize=(8, 8))\n",
        "plt.pie(quality_counts, labels=quality_counts.index, autopct='%1.1f%%', startangle=140)\n",
        "plt.axis('equal')\n",
        "plt.title('Wine Quality')\n",
        "plt.show()"
      ],
      "metadata": {
        "colab": {
          "base_uri": "https://localhost:8080/",
          "height": 675
        },
        "id": "ZMKEgNny5iQY",
        "outputId": "0127d074-216b-4dec-d6a9-1285f0fd2355"
      },
      "execution_count": null,
      "outputs": [
        {
          "output_type": "display_data",
          "data": {
            "text/plain": [
              "<Figure size 800x800 with 1 Axes>"
            ],
            "image/png": "[encoded data removed]"
          },
          "metadata": {}
        }
      ]
    },
    {
      "cell_type": "code",
      "source": [
        "quality_counts = red_wines['quality'].value_counts().sort_index()\n",
        "\n",
        "plt.figure(figsize=(8, 6))\n",
        "plt.bar(quality_counts.index.astype(str), quality_counts)\n",
        "plt.xlabel('Quality')\n",
        "plt.ylabel('Count')\n",
        "plt.title('Distribution of Wine Quality')\n",
        "plt.show()"
      ],
      "metadata": {
        "colab": {
          "base_uri": "https://localhost:8080/",
          "height": 564
        },
        "id": "ttDHa5uE5zjY",
        "outputId": "dd062e28-ce05-4e1d-a298-344b26299d65"
      },
      "execution_count": null,
      "outputs": [
        {
          "output_type": "display_data",
          "data": {
            "text/plain": [
              "<Figure size 800x600 with 1 Axes>"
            ],
            "image/png": "[encoded data removed]"
          },
          "metadata": {}
        }
      ]
    },
    {
      "cell_type": "markdown",
      "source": [
        "At this point, our database consists of 11 columns of continuous variables and one column with the actual evaluations, which represent our 3 desired classes.\n",
        "\n",
        "Therefore, our problem now is:\n",
        "\n",
        "\"Multiclass classification with 3 classes and 11 features\""
      ],
      "metadata": {
        "id": "D5OLH6Q4t6jG"
      }
    },
    {
      "cell_type": "code",
      "source": [
        "# Check the first 5 rows again with the quality column changed\n",
        "red_wines.head()"
      ],
      "metadata": {
        "colab": {
          "base_uri": "https://localhost:8080/",
          "height": 206
        },
        "id": "p79nGIznIwYS",
        "outputId": "7a3eb6df-b842-4d96-f702-1e3ca972b4cb"
      },
      "execution_count": null,
      "outputs": [
        {
          "output_type": "execute_result",
          "data": {
            "text/plain": [
              "   fixed acidity  volatile acidity  citric acid  residual sugar  chlorides  \\\n",
              "0            7.4              0.70         0.00             1.9      0.076   \n",
              "1            7.8              0.88         0.00             2.6      0.098   \n",
              "2            7.8              0.76         0.04             2.3      0.092   \n",
              "3           11.2              0.28         0.56             1.9      0.075   \n",
              "4            7.4              0.70         0.00             1.9      0.076   \n",
              "\n",
              "   free sulfur dioxide  total sulfur dioxide  density    pH  sulphates  \\\n",
              "0                 11.0                  34.0   0.9978  3.51       0.56   \n",
              "1                 25.0                  67.0   0.9968  3.20       0.68   \n",
              "2                 15.0                  54.0   0.9970  3.26       0.65   \n",
              "3                 17.0                  60.0   0.9980  3.16       0.58   \n",
              "4                 11.0                  34.0   0.9978  3.51       0.56   \n",
              "\n",
              "   alcohol   quality  \n",
              "0      9.4  Mediocre  \n",
              "1      9.8  Mediocre  \n",
              "2      9.8  Mediocre  \n",
              "3      9.8  Mediocre  \n",
              "4      9.4  Mediocre  "
            ],
            "text/html": [
              "\n",
              "  <div id=\"df-90b72cf6-3f06-42d0-85d8-ebefacd79fcf\" class=\"colab-df-container\">\n",
              "    <div>\n",
              "<style scoped>\n",
              "    .dataframe tbody tr th:only-of-type {\n",
              "        vertical-align: middle;\n",
              "    }\n",
              "\n",
              "    .dataframe tbody tr th {\n",
              "        vertical-align: top;\n",
              "    }\n",
              "\n",
              "    .dataframe thead th {\n",
              "        text-align: right;\n",
              "    }\n",
              "</style>\n",
              "<table border=\"1\" class=\"dataframe\">\n",
              "  <thead>\n",
              "    <tr style=\"text-align: right;\">\n",
              "      <th></th>\n",
              "      <th>fixed acidity</th>\n",
              "      <th>volatile acidity</th>\n",
              "      <th>citric acid</th>\n",
              "      <th>residual sugar</th>\n",
              "      <th>chlorides</th>\n",
              "      <th>free sulfur dioxide</th>\n",
              "      <th>total sulfur dioxide</th>\n",
              "      <th>density</th>\n",
              "      <th>pH</th>\n",
              "      <th>sulphates</th>\n",
              "      <th>alcohol</th>\n",
              "      <th>quality</th>\n",
              "    </tr>\n",
              "  </thead>\n",
              "  <tbody>\n",
              "    <tr>\n",
              "      <th>0</th>\n",
              "      <td>7.4</td>\n",
              "      <td>0.70</td>\n",
              "      <td>0.00</td>\n",
              "      <td>1.9</td>\n",
              "      <td>0.076</td>\n",
              "      <td>11.0</td>\n",
              "      <td>34.0</td>\n",
              "      <td>0.9978</td>\n",
              "      <td>3.51</td>\n",
              "      <td>0.56</td>\n",
              "      <td>9.4</td>\n",
              "      <td>Mediocre</td>\n",
              "    </tr>\n",
              "    <tr>\n",
              "      <th>1</th>\n",
              "      <td>7.8</td>\n",
              "      <td>0.88</td>\n",
              "      <td>0.00</td>\n",
              "      <td>2.6</td>\n",
              "      <td>0.098</td>\n",
              "      <td>25.0</td>\n",
              "      <td>67.0</td>\n",
              "      <td>0.9968</td>\n",
              "      <td>3.20</td>\n",
              "      <td>0.68</td>\n",
              "      <td>9.8</td>\n",
              "      <td>Mediocre</td>\n",
              "    </tr>\n",
              "    <tr>\n",
              "      <th>2</th>\n",
              "      <td>7.8</td>\n",
              "      <td>0.76</td>\n",
              "      <td>0.04</td>\n",
              "      <td>2.3</td>\n",
              "      <td>0.092</td>\n",
              "      <td>15.0</td>\n",
              "      <td>54.0</td>\n",
              "      <td>0.9970</td>\n",
              "      <td>3.26</td>\n",
              "      <td>0.65</td>\n",
              "      <td>9.8</td>\n",
              "      <td>Mediocre</td>\n",
              "    </tr>\n",
              "    <tr>\n",
              "      <th>3</th>\n",
              "      <td>11.2</td>\n",
              "      <td>0.28</td>\n",
              "      <td>0.56</td>\n",
              "      <td>1.9</td>\n",
              "      <td>0.075</td>\n",
              "      <td>17.0</td>\n",
              "      <td>60.0</td>\n",
              "      <td>0.9980</td>\n",
              "      <td>3.16</td>\n",
              "      <td>0.58</td>\n",
              "      <td>9.8</td>\n",
              "      <td>Mediocre</td>\n",
              "    </tr>\n",
              "    <tr>\n",
              "      <th>4</th>\n",
              "      <td>7.4</td>\n",
              "      <td>0.70</td>\n",
              "      <td>0.00</td>\n",
              "      <td>1.9</td>\n",
              "      <td>0.076</td>\n",
              "      <td>11.0</td>\n",
              "      <td>34.0</td>\n",
              "      <td>0.9978</td>\n",
              "      <td>3.51</td>\n",
              "      <td>0.56</td>\n",
              "      <td>9.4</td>\n",
              "      <td>Mediocre</td>\n",
              "    </tr>\n",
              "  </tbody>\n",
              "</table>\n",
              "</div>\n",
              "    <div class=\"colab-df-buttons\">\n",
              "\n",
              "  <div class=\"colab-df-container\">\n",
              "    <button class=\"colab-df-convert\" onclick=\"convertToInteractive('df-90b72cf6-3f06-42d0-85d8-ebefacd79fcf')\"\n",
              "            title=\"Convert this dataframe to an interactive table.\"\n",
              "            style=\"display:none;\">\n",
              "\n",
              "  <svg xmlns=\"http://www.w3.org/2000/svg\" height=\"24px\" viewBox=\"0 -960 960 960\">\n",
              "    <path d=\"M120-120v-720h720v720H120Zm60-500h600v-160H180v160Zm220 220h160v-160H400v160Zm0 220h160v-160H400v160ZM180-400h160v-160H180v160Zm440 0h160v-160H620v160ZM180-180h160v-160H180v160Zm440 0h160v-160H620v160Z\"/>\n",
              "  </svg>\n",
              "    </button>\n",
              "\n",
              "  <style>\n",
              "    .colab-df-container {\n",
              "      display:flex;\n",
              "      gap: 12px;\n",
              "    }\n",
              "\n",
              "    .colab-df-convert {\n",
              "      background-color: #E8F0FE;\n",
              "      border: none;\n",
              "      border-radius: 50%;\n",
              "      cursor: pointer;\n",
              "      display: none;\n",
              "      fill: #1967D2;\n",
              "      height: 32px;\n",
              "      padding: 0 0 0 0;\n",
              "      width: 32px;\n",
              "    }\n",
              "\n",
              "    .colab-df-convert:hover {\n",
              "      background-color: #E2EBFA;\n",
              "      box-shadow: 0px 1px 2px rgba(60, 64, 67, 0.3), 0px 1px 3px 1px rgba(60, 64, 67, 0.15);\n",
              "      fill: #174EA6;\n",
              "    }\n",
              "\n",
              "    .colab-df-buttons div {\n",
              "      margin-bottom: 4px;\n",
              "    }\n",
              "\n",
              "    [theme=dark] .colab-df-convert {\n",
              "      background-color: #3B4455;\n",
              "      fill: #D2E3FC;\n",
              "    }\n",
              "\n",
              "    [theme=dark] .colab-df-convert:hover {\n",
              "      background-color: #434B5C;\n",
              "      box-shadow: 0px 1px 3px 1px rgba(0, 0, 0, 0.15);\n",
              "      filter: drop-shadow(0px 1px 2px rgba(0, 0, 0, 0.3));\n",
              "      fill: #FFFFFF;\n",
              "    }\n",
              "  </style>\n",
              "\n",
              "    <script>\n",
              "      const buttonEl =\n",
              "        document.querySelector('#df-90b72cf6-3f06-42d0-85d8-ebefacd79fcf button.colab-df-convert');\n",
              "      buttonEl.style.display =\n",
              "        google.colab.kernel.accessAllowed ? 'block' : 'none';\n",
              "\n",
              "      async function convertToInteractive(key) {\n",
              "        const element = document.querySelector('#df-90b72cf6-3f06-42d0-85d8-ebefacd79fcf');\n",
              "        const dataTable =\n",
              "          await google.colab.kernel.invokeFunction('convertToInteractive',\n",
              "                                                    [key], {});\n",
              "        if (!dataTable) return;\n",
              "\n",
              "        const docLinkHtml = 'Like what you see? Visit the ' +\n",
              "          '<a target=\"_blank\" href=https://colab.research.google.com/notebooks/data_table.ipynb>data table notebook</a>'\n",
              "          + ' to learn more about interactive tables.';\n",
              "        element.innerHTML = '';\n",
              "        dataTable['output_type'] = 'display_data';\n",
              "        await google.colab.output.renderOutput(dataTable, element);\n",
              "        const docLink = document.createElement('div');\n",
              "        docLink.innerHTML = docLinkHtml;\n",
              "        element.appendChild(docLink);\n",
              "      }\n",
              "    </script>\n",
              "  </div>\n",
              "\n",
              "\n",
              "<div id=\"df-2487ad99-cf8a-4ddb-8082-7db8a6b79e80\">\n",
              "  <button class=\"colab-df-quickchart\" onclick=\"quickchart('df-2487ad99-cf8a-4ddb-8082-7db8a6b79e80')\"\n",
              "            title=\"Suggest charts\"\n",
              "            style=\"display:none;\">\n",
              "\n",
              "<svg xmlns=\"http://www.w3.org/2000/svg\" height=\"24px\"viewBox=\"0 0 24 24\"\n",
              "     width=\"24px\">\n",
              "    <g>\n",
              "        <path d=\"M19 3H5c-1.1 0-2 .9-2 2v14c0 1.1.9 2 2 2h14c1.1 0 2-.9 2-2V5c0-1.1-.9-2-2-2zM9 17H7v-7h2v7zm4 0h-2V7h2v10zm4 0h-2v-4h2v4z\"/>\n",
              "    </g>\n",
              "</svg>\n",
              "  </button>\n",
              "\n",
              "<style>\n",
              "  .colab-df-quickchart {\n",
              "      --bg-color: #E8F0FE;\n",
              "      --fill-color: #1967D2;\n",
              "      --hover-bg-color: #E2EBFA;\n",
              "      --hover-fill-color: #174EA6;\n",
              "      --disabled-fill-color: #AAA;\n",
              "      --disabled-bg-color: #DDD;\n",
              "  }\n",
              "\n",
              "  [theme=dark] .colab-df-quickchart {\n",
              "      --bg-color: #3B4455;\n",
              "      --fill-color: #D2E3FC;\n",
              "      --hover-bg-color: #434B5C;\n",
              "      --hover-fill-color: #FFFFFF;\n",
              "      --disabled-bg-color: #3B4455;\n",
              "      --disabled-fill-color: #666;\n",
              "  }\n",
              "\n",
              "  .colab-df-quickchart {\n",
              "    background-color: var(--bg-color);\n",
              "    border: none;\n",
              "    border-radius: 50%;\n",
              "    cursor: pointer;\n",
              "    display: none;\n",
              "    fill: var(--fill-color);\n",
              "    height: 32px;\n",
              "    padding: 0;\n",
              "    width: 32px;\n",
              "  }\n",
              "\n",
              "  .colab-df-quickchart:hover {\n",
              "    background-color: var(--hover-bg-color);\n",
              "    box-shadow: 0 1px 2px rgba(60, 64, 67, 0.3), 0 1px 3px 1px rgba(60, 64, 67, 0.15);\n",
              "    fill: var(--button-hover-fill-color);\n",
              "  }\n",
              "\n",
              "  .colab-df-quickchart-complete:disabled,\n",
              "  .colab-df-quickchart-complete:disabled:hover {\n",
              "    background-color: var(--disabled-bg-color);\n",
              "    fill: var(--disabled-fill-color);\n",
              "    box-shadow: none;\n",
              "  }\n",
              "\n",
              "  .colab-df-spinner {\n",
              "    border: 2px solid var(--fill-color);\n",
              "    border-color: transparent;\n",
              "    border-bottom-color: var(--fill-color);\n",
              "    animation:\n",
              "      spin 1s steps(1) infinite;\n",
              "  }\n",
              "\n",
              "  @keyframes spin {\n",
              "    0% {\n",
              "      border-color: transparent;\n",
              "      border-bottom-color: var(--fill-color);\n",
              "      border-left-color: var(--fill-color);\n",
              "    }\n",
              "    20% {\n",
              "      border-color: transparent;\n",
              "      border-left-color: var(--fill-color);\n",
              "      border-top-color: var(--fill-color);\n",
              "    }\n",
              "    30% {\n",
              "      border-color: transparent;\n",
              "      border-left-color: var(--fill-color);\n",
              "      border-top-color: var(--fill-color);\n",
              "      border-right-color: var(--fill-color);\n",
              "    }\n",
              "    40% {\n",
              "      border-color: transparent;\n",
              "      border-right-color: var(--fill-color);\n",
              "      border-top-color: var(--fill-color);\n",
              "    }\n",
              "    60% {\n",
              "      border-color: transparent;\n",
              "      border-right-color: var(--fill-color);\n",
              "    }\n",
              "    80% {\n",
              "      border-color: transparent;\n",
              "      border-right-color: var(--fill-color);\n",
              "      border-bottom-color: var(--fill-color);\n",
              "    }\n",
              "    90% {\n",
              "      border-color: transparent;\n",
              "      border-bottom-color: var(--fill-color);\n",
              "    }\n",
              "  }\n",
              "</style>\n",
              "\n",
              "  <script>\n",
              "    async function quickchart(key) {\n",
              "      const quickchartButtonEl =\n",
              "        document.querySelector('#' + key + ' button');\n",
              "      quickchartButtonEl.disabled = true;  // To prevent multiple clicks.\n",
              "      quickchartButtonEl.classList.add('colab-df-spinner');\n",
              "      try {\n",
              "        const charts = await google.colab.kernel.invokeFunction(\n",
              "            'suggestCharts', [key], {});\n",
              "      } catch (error) {\n",
              "        console.error('Error during call to suggestCharts:', error);\n",
              "      }\n",
              "      quickchartButtonEl.classList.remove('colab-df-spinner');\n",
              "      quickchartButtonEl.classList.add('colab-df-quickchart-complete');\n",
              "    }\n",
              "    (() => {\n",
              "      let quickchartButtonEl =\n",
              "        document.querySelector('#df-2487ad99-cf8a-4ddb-8082-7db8a6b79e80 button');\n",
              "      quickchartButtonEl.style.display =\n",
              "        google.colab.kernel.accessAllowed ? 'block' : 'none';\n",
              "    })();\n",
              "  </script>\n",
              "</div>\n",
              "    </div>\n",
              "  </div>\n"
            ]
          },
          "metadata": {},
          "execution_count": 14
        }
      ]
    },
    {
      "cell_type": "code",
      "source": [
        "pd.value_counts(red_wines.quality)"
      ],
      "metadata": {
        "colab": {
          "base_uri": "https://localhost:8080/"
        },
        "id": "bRexgjGEIyBp",
        "outputId": "5ec4c135-9372-4e46-f90f-c9550ddbab6a"
      },
      "execution_count": null,
      "outputs": [
        {
          "output_type": "execute_result",
          "data": {
            "text/plain": [
              "Mediocre    1319\n",
              "Good         217\n",
              "Bad           63\n",
              "Name: quality, dtype: int64"
            ]
          },
          "metadata": {},
          "execution_count": 15
        }
      ]
    },
    {
      "cell_type": "markdown",
      "source": [
        "Next, we will proceed with building our Logistic Regression model.\n",
        "\n",
        "The requirements are as follows:\n",
        "\n",
        "\n",
        "- \"You should train your model using the Stochastic Gradient Descent algorithm. As the loss function, you should use CrossEntropyLoss.\""
      ],
      "metadata": {
        "id": "P7YUpF8Ru4HG"
      }
    },
    {
      "cell_type": "code",
      "source": [
        "# Get data for both training and testing\n",
        "y = red_wines.quality # 12 column\n",
        "X = red_wines.drop('quality', axis=1) # first 11 columns"
      ],
      "metadata": {
        "id": "CTmUeDA_I5_h"
      },
      "execution_count": null,
      "outputs": []
    },
    {
      "cell_type": "code",
      "source": [
        "# use sklearn ONLY to split data to training and testing data\n",
        "from sklearn.model_selection import train_test_split"
      ],
      "metadata": {
        "id": "1qDedhY0J4Wo"
      },
      "execution_count": null,
      "outputs": []
    },
    {
      "cell_type": "markdown",
      "source": [
        "Our training data constitutes 80% of the total dataset. We will use the remaining 20% to evaluate the performance of our algorithm."
      ],
      "metadata": {
        "id": "1rdWaWahvuJ2"
      }
    },
    {
      "cell_type": "code",
      "source": [
        "X_train, X_test, y_train, y_test = train_test_split(X, y, test_size=0.2, random_state=42)"
      ],
      "metadata": {
        "id": "AfIwYbVpJ1sC"
      },
      "execution_count": null,
      "outputs": []
    },
    {
      "cell_type": "code",
      "source": [
        "X_train = (X_train - X_train.mean()) / X_train.std()\n",
        "X_test = (X_test - X_test.mean()) / X_test.std()"
      ],
      "metadata": {
        "id": "u9SgFX0pKRo4"
      },
      "execution_count": null,
      "outputs": []
    },
    {
      "cell_type": "code",
      "source": [
        "print(\"Train set length:\", len(X_train))\n",
        "print(\"Test set length:\", len(X_test))\n",
        "\n",
        "print(\"\\nTrain set null values:\")\n",
        "print(X_train.isnull().sum())\n",
        "\n",
        "print(\"\\nTest set null values:\")\n",
        "print(X_test.isnull().sum())"
      ],
      "metadata": {
        "colab": {
          "base_uri": "https://localhost:8080/"
        },
        "id": "kelqsUsE0zRp",
        "outputId": "88a16b95-7388-45e3-da7f-65fc9ea36d8b"
      },
      "execution_count": null,
      "outputs": [
        {
          "output_type": "stream",
          "name": "stdout",
          "text": [
            "Train set length: 1279\n",
            "Test set length: 320\n",
            "\n",
            "Train set null values:\n",
            "fixed acidity           0\n",
            "volatile acidity        0\n",
            "citric acid             0\n",
            "residual sugar          0\n",
            "chlorides               0\n",
            "free sulfur dioxide     0\n",
            "total sulfur dioxide    0\n",
            "density                 0\n",
            "pH                      0\n",
            "sulphates               0\n",
            "alcohol                 0\n",
            "dtype: int64\n",
            "\n",
            "Test set null values:\n",
            "fixed acidity           0\n",
            "volatile acidity        0\n",
            "citric acid             0\n",
            "residual sugar          0\n",
            "chlorides               0\n",
            "free sulfur dioxide     0\n",
            "total sulfur dioxide    0\n",
            "density                 0\n",
            "pH                      0\n",
            "sulphates               0\n",
            "alcohol                 0\n",
            "dtype: int64\n"
          ]
        }
      ]
    },
    {
      "cell_type": "code",
      "source": [
        "# Check all possible classes\n",
        "num_classes = len(np.unique(y_train))"
      ],
      "metadata": {
        "id": "QAVWJyuMKS1g"
      },
      "execution_count": null,
      "outputs": []
    },
    {
      "cell_type": "code",
      "source": [
        "print('How many classes are there?: ', num_classes)"
      ],
      "metadata": {
        "colab": {
          "base_uri": "https://localhost:8080/"
        },
        "id": "zGSAR2svKgkf",
        "outputId": "25ae6c23-c00a-41f0-d61e-4601a6dfb053"
      },
      "execution_count": null,
      "outputs": [
        {
          "output_type": "stream",
          "name": "stdout",
          "text": [
            "How many classes are there?:  3\n"
          ]
        }
      ]
    },
    {
      "cell_type": "code",
      "source": [
        "w = np.zeros((X_train.shape[1], num_classes))\n",
        "b = np.zeros(num_classes)\n",
        "learning_rate = 0.001"
      ],
      "metadata": {
        "id": "6bVF64raKVF4"
      },
      "execution_count": null,
      "outputs": []
    },
    {
      "cell_type": "code",
      "source": [
        "print(\"Shape of w:\", w.shape)\n",
        "print(\"Shape of b:\", b.shape)"
      ],
      "metadata": {
        "colab": {
          "base_uri": "https://localhost:8080/"
        },
        "id": "ljp-hps20-yq",
        "outputId": "fa62e933-2c7d-41e8-9bc7-943670725bcd"
      },
      "execution_count": null,
      "outputs": [
        {
          "output_type": "stream",
          "name": "stdout",
          "text": [
            "Shape of w: (11, 3)\n",
            "Shape of b: (3,)\n"
          ]
        }
      ]
    },
    {
      "cell_type": "markdown",
      "source": [
        "# ?) What Multinomial Logistic Regression means\n",
        "\n",
        "Multinomial Logistic Regression is a form of logistic regression used when there are three or more discrete classes in classification tasks.\n",
        "\n",
        "The model predicts the probability of each category as the response. Depending on the number of possible categories, different functions are used to compute the probabilities and select the final category that corresponds to the most likely outcome.\n",
        "\n",
        "In Multinomial Logistic Regression, each weight corresponds to a feature and a class, and the model is trained to find weights that best predict the category for each observation.\n",
        "\n",
        "In short,\n",
        "\n",
        "\"Compute the probability for each class and assign the label corresponding to the highest probability.\""
      ],
      "metadata": {
        "id": "LXcF_-gDwr1d"
      }
    },
    {
      "cell_type": "markdown",
      "source": [
        "# *Custom LogisticRegressionSGD class Analysis:*\n",
        "\n",
        "- **num_classes**: The number of classes that the model can predict.\n",
        "\n",
        "- **learning_rate**: Adjustable parameter affecting how quickly the model learns from data.\n",
        "\n",
        "- **num_epochs**: Number of times the model will be trained on the input data.\n",
        "\n",
        "- **batch_size**: Number of samples used in each iteration of Stochastic Gradient Descent.\n",
        "\n",
        "- **w**: Weights used in training the model.\n",
        "\n",
        "- **b**: Bias added to the result of the multiplication of features with weights before applying the sigmoid function or softmax function.\n",
        "\n",
        "- **Sigmoid**: Used to transform the linear function into a probability prediction between 0 and 1.\n",
        "\n",
        "- **Softmax**: Used to convert the model outputs into probabilities for each class.\n",
        "\n",
        "- **Cross Entropy Loss**: Used to measure the \"cost\" incurred between actual and predicted probabilities. The goal is to minimize the cost during training.\n",
        "\n",
        "- **One Hot Encode**: Used to convert categorical variables into a form that can be used by the model. In our case, we have three classes, so 3 values ('Bad': 0, 'Mediocre': 1, 'Good': 2).\n",
        "\n",
        "- **Fit**: Trains the model using Stochastic Gradient Descent. It iterates through multiple epochs and applies the method to small batches of data.\n",
        "\n",
        "- **Predict**: Uses the trained model to predict classes of new input samples. It uses the Softmax function for multiclass classification and selects the class with the highest probability."
      ],
      "metadata": {
        "id": "ArKnQ-bkzAc1"
      }
    },
    {
      "cell_type": "markdown",
      "source": [
        "### Step 1: Initialization\n",
        "Initialize w,b with random values.\n",
        "\n",
        "### Step 2: Functions used\n",
        "#### Sigmoid\n",
        "$$ σ(z) = \\frac{1}{1 + e^{-z}} $$\n",
        "\n",
        "#### Softmax\n",
        "$$ {y_nk}(z_i) = \\frac{e^{z_i}}{\\sum_{j=1}^{K} e^{z_j}} $$\n",
        "\n",
        "#### Cross-Entropy\n",
        "$$ {L_CE}(\\mathbf{y_{true}}, \\mathbf{y_{pred}}) = -\\frac{1}{N} \\sum_{i=1}^{N} \\sum_{j=1}^{K} y_{true, i} \\cdot \\log(y_{pred, i}) $$\n",
        "\n",
        "### Step 3: Fit\n",
        "For each epoch:\n",
        "\n",
        "1. Split training data into small batches.\n",
        "2. Convert class labels using one-hot encoding.\n",
        "3. Compute predictions y_pred using softmax and cross_entropy_loss functions.\n",
        "4. Compute gradients for w, b.\n",
        "5. Update weights based on gradients and learning rate\n",
        "\n",
        "### Step 4: Predict\n",
        "Use trained weights to predict classes of new data.\n"
      ],
      "metadata": {
        "id": "um4TqrPg7TJn"
      }
    },
    {
      "cell_type": "code",
      "source": [
        "class LogisticRegressionSGD:\n",
        "    def __init__(self, num_classes, learning_rate=0.001, num_epochs=1000, batch_size=32):\n",
        "        self.num_classes = num_classes\n",
        "        self.learning_rate = learning_rate\n",
        "        self.num_epochs = num_epochs\n",
        "        self.batch_size = batch_size\n",
        "        self.w = None\n",
        "        self.b = None\n",
        "        self.losses = []\n",
        "\n",
        "    def sigmoid(self, z):\n",
        "        return 1 / (1 + np.exp(-z))\n",
        "\n",
        "    def softmax(self, z):\n",
        "        exp_z = np.exp(z - np.max(z, axis=1, keepdims=True))\n",
        "        return exp_z / exp_z.sum(axis=1, keepdims=True)\n",
        "\n",
        "    def cross_entropy_loss(self, y_true, y_pred):\n",
        "        epsilon = 1e-15\n",
        "        y_pred = np.clip(y_pred, epsilon, 1 - epsilon)\n",
        "        return -np.mean(np.sum(y_true * np.log(y_pred), axis=1))\n",
        "\n",
        "    def one_hot_encode(self, labels):\n",
        "        one_hot_labels = np.zeros((len(labels), self.num_classes))\n",
        "        one_hot_labels[np.arange(len(labels)), labels] = 1\n",
        "        return one_hot_labels\n",
        "\n",
        "    def fit(self, X_train, y_train):\n",
        "        np.random.seed(42)\n",
        "        self.w = np.random.randn(X_train.shape[1], self.num_classes)\n",
        "        self.b = np.zeros(self.num_classes)\n",
        "\n",
        "        for epoch in range(self.num_epochs):\n",
        "            for i in range(0, len(X_train), self.batch_size):\n",
        "                X_batch = X_train[i:i + self.batch_size]\n",
        "                y_batch = self.one_hot_encode(y_train[i:i + self.batch_size].map({'Bad': 0, 'Mediocre': 1, 'Good': 2}))\n",
        "\n",
        "                y_pred = self.softmax(np.dot(X_batch, self.w) + self.b)\n",
        "                loss = self.cross_entropy_loss(y_batch, y_pred)\n",
        "                self.losses.append(loss)\n",
        "\n",
        "                grad_w = np.dot(X_batch.T, (y_pred - y_batch)) / self.batch_size\n",
        "                grad_b = np.mean(y_pred - y_batch, axis=0)\n",
        "\n",
        "                self.w -= self.learning_rate * grad_w\n",
        "                self.b -= self.learning_rate * grad_b\n",
        "\n",
        "    def predict(self, X):\n",
        "        return np.argmax(self.softmax(np.dot(X, self.w) + self.b), axis=1)\n"
      ],
      "metadata": {
        "id": "ev3dT2orUgiO"
      },
      "execution_count": null,
      "outputs": []
    },
    {
      "cell_type": "code",
      "source": [
        "logreg = LogisticRegressionSGD(num_classes=3)\n",
        "logreg.fit(X_train, y_train)\n",
        "\n",
        "train_predictions = logreg.predict(X_train)\n",
        "test_predictions = logreg.predict(X_test)"
      ],
      "metadata": {
        "id": "6upMdwh-U7eh"
      },
      "execution_count": null,
      "outputs": []
    },
    {
      "cell_type": "markdown",
      "source": [
        "View Cross entropy loss"
      ],
      "metadata": {
        "id": "UKnLgijjJX6R"
      }
    },
    {
      "cell_type": "code",
      "source": [
        "losses = logreg.losses\n",
        "\n",
        "# Group losses per epoch based on batch size\n",
        "losses_per_epoch = [losses[i:i + len(X_train) // logreg.batch_size] for i in range(0, len(losses), len(X_train) // logreg.batch_size)]\n",
        "epoch_losses = [np.mean(epoch) for epoch in losses_per_epoch]\n",
        "\n",
        "plt.figure(figsize=(8, 6))\n",
        "plt.plot(range(1, len(epoch_losses) + 1), epoch_losses, marker='o', linestyle='-')\n",
        "plt.title('Cross-Entropy Loss per Epoch')\n",
        "plt.xlabel('Epoch')\n",
        "plt.ylabel('Cross-Entropy Loss')\n",
        "plt.grid(True)\n",
        "plt.show()"
      ],
      "metadata": {
        "colab": {
          "base_uri": "https://localhost:8080/",
          "height": 564
        },
        "id": "h-H1T4SJJWXI",
        "outputId": "b04dc648-566b-4862-d9fe-971556e7ebf3"
      },
      "execution_count": null,
      "outputs": [
        {
          "output_type": "display_data",
          "data": {
            "text/plain": [
              "<Figure size 800x600 with 1 Axes>"
            ],
            "image/png": "[encoded data removed]"
          },
          "metadata": {}
        }
      ]
    },
    {
      "cell_type": "code",
      "source": [
        "# Here, we use sklearn ONLY to calculate important scores (Accuracy, Precision, Recall, F1 Score)\n",
        "from sklearn.metrics import accuracy_score, precision_recall_fscore_support"
      ],
      "metadata": {
        "id": "jRzeMgmKX73r"
      },
      "execution_count": null,
      "outputs": []
    },
    {
      "cell_type": "code",
      "source": [
        "# Convert string labels to numeric labels\n",
        "label_map = {'Bad': 0, 'Mediocre': 1, 'Good': 2}\n",
        "y_train_numeric = y_train.map(label_map)\n",
        "train_predictions_numeric = train_predictions\n",
        "\n",
        "y_test_numeric = y_test.map(label_map)\n",
        "test_predictions_numeric = test_predictions"
      ],
      "metadata": {
        "id": "rxXoR6ewWV_H"
      },
      "execution_count": null,
      "outputs": []
    },
    {
      "cell_type": "code",
      "source": [
        "train_precision, train_recall, train_f1, _ = precision_recall_fscore_support(y_train_numeric, train_predictions_numeric, average='weighted')"
      ],
      "metadata": {
        "id": "za4pJzhkYhA1"
      },
      "execution_count": null,
      "outputs": []
    },
    {
      "cell_type": "code",
      "source": [
        "test_precision, test_recall, test_f1, _ = precision_recall_fscore_support(y_test_numeric, test_predictions_numeric, average='weighted')"
      ],
      "metadata": {
        "id": "h6GqZiQlYj7F"
      },
      "execution_count": null,
      "outputs": []
    },
    {
      "cell_type": "code",
      "source": [
        "train_accuracy = accuracy_score(y_train_numeric, train_predictions_numeric)\n",
        "test_accuracy = accuracy_score(y_test_numeric, test_predictions_numeric)"
      ],
      "metadata": {
        "id": "TIi2j8yGYt6t"
      },
      "execution_count": null,
      "outputs": []
    },
    {
      "cell_type": "markdown",
      "source": [
        "- **Accuracy**: The accuracy of our model. It represents the percentage of correct predictions out of the total predictions.\n",
        "\n",
        "- **Precision**: Refers to the ability of the model to correctly predict positive predictions relative to the total predictions it makes for that particular class.\n",
        "\n",
        "- **Recall**: Identifies all true positive samples for a specific class.\n",
        "\n",
        "- **F1 Score**: Calculated as the harmonic mean of precision and recall, providing a numerical way to assess the overall performance of the model."
      ],
      "metadata": {
        "id": "f47fFV2FASnC"
      }
    },
    {
      "cell_type": "code",
      "source": [
        "print(\"Training Accuracy:\", train_accuracy)\n",
        "print(\"Testing Accuracy:\", test_accuracy)\n",
        "print(\"\\nTraining Precision:\", train_precision)\n",
        "print(\"Testing Precision:\", test_precision)\n",
        "print(\"\\nTraining Recall:\", train_recall)\n",
        "print(\"Testing Recall:\", test_recall)\n",
        "print(\"\\nTraining F1-score:\", train_f1)\n",
        "print(\"Testing F1-score:\", test_f1)"
      ],
      "metadata": {
        "colab": {
          "base_uri": "https://localhost:8080/"
        },
        "id": "861wO6LmWZbu",
        "outputId": "1fa43d21-4de9-4014-a248-780fabf9c6a2"
      },
      "execution_count": null,
      "outputs": [
        {
          "output_type": "stream",
          "name": "stdout",
          "text": [
            "Training Accuracy: 0.8428459734167318\n",
            "Testing Accuracy: 0.8375\n",
            "\n",
            "Training Precision: 0.8172469109730346\n",
            "Testing Precision: 0.8107700892857143\n",
            "\n",
            "Training Recall: 0.8428459734167318\n",
            "Testing Recall: 0.8375\n",
            "\n",
            "Training F1-score: 0.813577669710145\n",
            "Testing F1-score: 0.8095245796861968\n"
          ]
        }
      ]
    },
    {
      "cell_type": "markdown",
      "source": [
        "# SGDClassifier Comparison"
      ],
      "metadata": {
        "id": "GnQwHshZBjSU"
      }
    },
    {
      "cell_type": "code",
      "source": [
        "from sklearn.linear_model import SGDClassifier\n",
        "from sklearn.metrics import accuracy_score, precision_recall_fscore_support\n",
        "\n",
        "# Instantiate scikit-learn's SGDClassifier for logistic regression\n",
        "sgd_logreg = SGDClassifier(loss='log', max_iter=1000, alpha=0.0001, random_state=42)\n",
        "\n",
        "# Train the model\n",
        "sgd_logreg.fit(X_train, y_train)\n",
        "\n",
        "# Predict using scikit-learn model\n",
        "sgd_train_predictions = sgd_logreg.predict(X_train)\n",
        "sgd_test_predictions = sgd_logreg.predict(X_test)\n",
        "\n",
        "# Calculate accuracy\n",
        "sgd_train_accuracy = accuracy_score(y_train, sgd_train_predictions)\n",
        "sgd_test_accuracy = accuracy_score(y_test, sgd_test_predictions)\n",
        "\n",
        "# Calculate precision, recall, f1-score for each class\n",
        "sgd_train_precision, sgd_train_recall, sgd_train_f1, _ = precision_recall_fscore_support(y_train, sgd_train_predictions, average='weighted')\n",
        "sgd_test_precision, sgd_test_recall, sgd_test_f1, _ = precision_recall_fscore_support(y_test, sgd_test_predictions, average='weighted')\n",
        "\n",
        "print(\"SGD Logistic Regression Training Accuracy:\", sgd_train_accuracy)\n",
        "print(\"SGD Logistic Regression Testing Accuracy:\", sgd_test_accuracy)\n",
        "print(\"\\nSGD Logistic Regression Training Precision:\", sgd_train_precision)\n",
        "print(\"SGD Logistic Regression Testing Precision:\", sgd_test_precision)\n",
        "print(\"\\nSGD Logistic Regression Training Recall:\", sgd_train_recall)\n",
        "print(\"SGD Logistic Regression Testing Recall:\", sgd_test_recall)\n",
        "print(\"\\nSGD Logistic Regression Training F1-score:\", sgd_train_f1)\n",
        "print(\"SGD Logistic Regression Testing F1-score:\", sgd_test_f1)\n"
      ],
      "metadata": {
        "colab": {
          "base_uri": "https://localhost:8080/"
        },
        "id": "3Osx4hkpaN71",
        "outputId": "73a07c55-31ef-45a9-aa92-37a99f2e1218"
      },
      "execution_count": null,
      "outputs": [
        {
          "output_type": "stream",
          "name": "stdout",
          "text": [
            "SGD Logistic Regression Training Accuracy: 0.8264268960125097\n",
            "SGD Logistic Regression Testing Accuracy: 0.825\n",
            "\n",
            "SGD Logistic Regression Training Precision: 0.7963019377422613\n",
            "SGD Logistic Regression Testing Precision: 0.8142282196969697\n",
            "\n",
            "SGD Logistic Regression Training Recall: 0.8264268960125097\n",
            "SGD Logistic Regression Testing Recall: 0.825\n",
            "\n",
            "SGD Logistic Regression Training F1-score: 0.7923308758848342\n",
            "SGD Logistic Regression Testing F1-score: 0.7923775241805888\n"
          ]
        }
      ]
    },
    {
      "cell_type": "code",
      "source": [
        "# Calculate the differences between custom implementation and scikit-learn SGD Logistic Regression\n",
        "train_accuracy_diff = train_accuracy - sgd_train_accuracy\n",
        "test_accuracy_diff = test_accuracy - sgd_test_accuracy\n",
        "\n",
        "train_precision_diff = train_precision - sgd_train_precision\n",
        "test_precision_diff = test_precision - sgd_test_precision\n",
        "\n",
        "train_recall_diff = train_recall - sgd_train_recall\n",
        "test_recall_diff = test_recall - sgd_test_recall\n",
        "\n",
        "train_f1_diff = train_f1 - sgd_train_f1\n",
        "test_f1_diff = test_f1 - sgd_test_f1\n",
        "\n",
        "# Display the comparative metrics\n",
        "print(\"Metric\\t\\t\\t\\tCustom\\t\\tSGD\\t\\tDifference\")\n",
        "print(\"Training Accuracy:\\t\\t{:.4f}\\t\\t{:.4f}\\t\\t{:.4f}\".format(train_accuracy, sgd_train_accuracy, train_accuracy_diff))\n",
        "print(\"Testing Accuracy:\\t\\t{:.4f}\\t\\t{:.4f}\\t\\t{:.4f}\".format(test_accuracy, sgd_test_accuracy, test_accuracy_diff))\n",
        "print(\"Training Precision:\\t\\t{:.4f}\\t\\t{:.4f}\\t\\t{:.4f}\".format(train_precision, sgd_train_precision, train_precision_diff))\n",
        "print(\"Testing Precision:\\t\\t{:.4f}\\t\\t{:.4f}\\t\\t{:.4f}\".format(test_precision, sgd_test_precision, test_precision_diff))\n",
        "print(\"Training Recall:\\t\\t{:.4f}\\t\\t{:.4f}\\t\\t{:.4f}\".format(train_recall, sgd_train_recall, train_recall_diff))\n",
        "print(\"Testing Recall:\\t\\t\\t{:.4f}\\t\\t{:.4f}\\t\\t{:.4f}\".format(test_recall, sgd_test_recall, test_recall_diff))\n",
        "print(\"Training F1-score:\\t\\t{:.4f}\\t\\t{:.4f}\\t\\t{:.4f}\".format(train_f1, sgd_train_f1, train_f1_diff))\n",
        "print(\"Testing F1-score:\\t\\t{:.4f}\\t\\t{:.4f}\\t\\t{:.4f}\".format(test_f1, sgd_test_f1, test_f1_diff))\n"
      ],
      "metadata": {
        "colab": {
          "base_uri": "https://localhost:8080/"
        },
        "id": "VYMOUd5ca_qt",
        "outputId": "47f92263-e448-46a2-ea53-6e029519d3db"
      },
      "execution_count": null,
      "outputs": [
        {
          "output_type": "stream",
          "name": "stdout",
          "text": [
            "Metric\t\t\t\tCustom\t\tSGD\t\tDifference\n",
            "Training Accuracy:\t\t0.8428\t\t0.8264\t\t0.0164\n",
            "Testing Accuracy:\t\t0.8375\t\t0.8250\t\t0.0125\n",
            "Training Precision:\t\t0.8172\t\t0.7963\t\t0.0209\n",
            "Testing Precision:\t\t0.8108\t\t0.8142\t\t-0.0035\n",
            "Training Recall:\t\t0.8428\t\t0.8264\t\t0.0164\n",
            "Testing Recall:\t\t\t0.8375\t\t0.8250\t\t0.0125\n",
            "Training F1-score:\t\t0.8136\t\t0.7923\t\t0.0212\n",
            "Testing F1-score:\t\t0.8095\t\t0.7924\t\t0.0171\n"
          ]
        }
      ]
    },
    {
      "cell_type": "code",
      "source": [
        "import matplotlib.pyplot as plt\n",
        "\n",
        "metrics = ['Accuracy', 'Precision', 'Recall', 'F1-score']\n",
        "custom_train_metrics = [train_accuracy, train_precision, train_recall, train_f1]\n",
        "sgd_train_metrics = [sgd_train_accuracy, sgd_train_precision, sgd_train_recall, sgd_train_f1]\n",
        "custom_test_metrics = [test_accuracy, test_precision, test_recall, test_f1]\n",
        "sgd_test_metrics = [sgd_test_accuracy, sgd_test_precision, sgd_test_recall, sgd_test_f1]\n",
        "\n",
        "fig, axs = plt.subplots(2, 2, figsize=(12, 8))\n",
        "axs = axs.flatten()\n",
        "\n",
        "for i, metric in enumerate(metrics):\n",
        "    axs[i].bar(['Custom Train', 'Scikit-learn Train', 'Custom Test', 'Scikit-learn Test'],\n",
        "               [custom_train_metrics[i], sgd_train_metrics[i], custom_test_metrics[i], sgd_test_metrics[i]])\n",
        "    axs[i].set_title(metric)\n",
        "    axs[i].set_ylabel(metric)\n",
        "    axs[i].set_ylim(0, 1)  # Set y-axis limit to 0-1 for metrics\n",
        "\n",
        "plt.tight_layout()\n",
        "plt.show()\n"
      ],
      "metadata": {
        "colab": {
          "base_uri": "https://localhost:8080/",
          "height": 807
        },
        "id": "TqstfYFdsk8K",
        "outputId": "29e3d566-d1f9-49eb-fe4b-303525aebf11"
      },
      "execution_count": null,
      "outputs": [
        {
          "output_type": "display_data",
          "data": {
            "text/plain": [
              "<Figure size 1200x800 with 4 Axes>"
            ],
            "image/png": "[encoded data removed]"
          },
          "metadata": {}
        }
      ]
    },
    {
      "cell_type": "markdown",
      "source": [
        "# Conclusion: What conclusions did we draw from the above comparisons?\n",
        "\n",
        "- The accuracy of our model reached 84.28%. Compared to the sklearn model, it performs slightly better (+1.64% on training and +1.25% on testing).\n",
        "\n",
        "- The differences in precision are minimal and nearly negligible on testing (-0.35%).\n",
        "\n",
        "- Our model's recall is higher compared to the sklearn model (+1.64% on training and +1.25% on testing).\n",
        "\n",
        "- There are positive differences in F1-Score (+2.12% on training and +1.71% on testing).\n",
        "\n",
        "These differences indicate that in most cases, our model outperformed the SGD Logistic Regression of scikit-learn in terms of accuracy, precision, recall, and F1 score, especially on training data."
      ],
      "metadata": {
        "id": "zP3DJAmuDoUZ"
      }
    }
  ]
}